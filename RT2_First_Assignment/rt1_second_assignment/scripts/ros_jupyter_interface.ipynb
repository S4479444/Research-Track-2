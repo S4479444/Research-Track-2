{
 "cells": [
  {
   "cell_type": "code",
   "execution_count": null,
   "metadata": {},
   "outputs": [],
   "source": [
    "%matplotlib notebook\n",
    "import rospy\n",
    "import actionlib\n",
    "import actionlib.msg\n",
    "import assignment_2_2022.msg\n",
    "import jupyros\n",
    "import time\n",
    "import sys\n",
    "import select\n",
    "import os\n",
    "import numpy as np\n",
    "import matplotlib.pyplot as plt\n",
    "from std_msgs.msg import String, Int32\n",
    "from geometry_msgs.msg import PoseStamped\n",
    "from geometry_msgs.msg import Point, Pose, Twist\n",
    "from nav_msgs.msg import Odometry"
   ]
  },
  {
   "cell_type": "code",
   "execution_count": null,
   "metadata": {},
   "outputs": [],
   "source": [
    "from move_base_msgs.msg import MoveBaseAction, MoveBaseGoal, MoveBaseResult\n",
    "from actionlib_msgs.msg import GoalStatus\n",
    "from sensor_msgs.msg  import LaserScan\n",
    "from rt1_second_assignment.msg import odom_custom_msg\n",
    "import assignment_2_2022.msg\n",
    "from assignment_2_2022.msg import My_pos_vel, PlanningActionGoal, PlanningAction, PlanningGoal\n",
    "from assignment_2_2022.srv import Goals_number, Goals_numberRequest, Goals_numberResponse"
   ]
  },
  {
   "cell_type": "code",
   "execution_count": null,
   "metadata": {},
   "outputs": [],
   "source": [
    "import matplotlib.pyplot as plt\n",
    "from IPython.display import display\n",
    "from matplotlib.backends.backend_agg import FigureCanvasAgg as FigureCanvas\n",
    "from matplotlib.figure import Figure\n",
    "from matplotlib.widgets import Button\n",
    "from matplotlib.animation import FuncAnimation\n",
    "import threading\n",
    "from std_srvs.srv import *"
   ]
  },
  {
   "cell_type": "code",
   "execution_count": null,
   "metadata": {},
   "outputs": [],
   "source": [
    "from ipywidgets import Button, Layout, ButtonStyle, GridBox, VBox, HBox\n",
    "import ipywidgets as widgets"
   ]
  },
  {
   "cell_type": "code",
   "execution_count": null,
   "metadata": {},
   "outputs": [],
   "source": [
    "# Initialize the client node\n",
    "rospy.init_node('ros_jupyter_interface')\n",
    "\n",
    "# Counters\n",
    "goal_reached = 0\n",
    "obstacle_distance = 0\n",
    "targets_cancelled = 0\n",
    "\n",
    "# Global variables for coordinates\n",
    "x_coord = []\n",
    "y_coord = []"
   ]
  },
  {
   "cell_type": "code",
   "execution_count": null,
   "metadata": {},
   "outputs": [],
   "source": [
    "def laser_callback(laser_scan):\n",
    "    # Find closest obstacle\n",
    "    min_range = min(laser_scan.ranges)\n",
    "    if min_range == float('inf'):\n",
    "        obstacle_distance = 'Infinity'\n",
    "    else:\n",
    "        obstacle_distance = '{:.1f}'.format(min_range)\n",
    "    # Update GUI\n",
    "    obstacle_distance_text.value = obstacle_distance\n",
    "\n",
    "# Update the robot position plot and the text boxes\n",
    "def update_plot(frame):\n",
    "    ln.set_data(x_coord, y_coord)\n",
    "    global target_counts\n",
    "    target_counts = [goal_reached, targets_cancelled]\n",
    "    for rect, count in zip(bar_plot.patches, target_counts):\n",
    "        rect.set_height(count)\n",
    "    fig.canvas.draw()\n",
    "    return ln,\n",
    "\n",
    "def position_callback(msg):\n",
    "    global x_coord, y_coord\n",
    "    # Retrieve the actual position\n",
    "    x = msg.x\n",
    "    y = msg.y\n",
    "    robot_position_text.value = '({:.2f}, {:.2f})'.format(x, y)\n",
    "    x_coord.append(x)\n",
    "    y_coord.append(y)\n",
    "\n",
    "def callback_result(msg):\n",
    "    status = msg.status.status\n",
    "    # If status = 3, the goal is reached\n",
    "    if status == 3:\n",
    "        increase_reached_targets()\n",
    "    # If status = 2, the goal is cancelled\n",
    "    elif status == 2:\n",
    "        increase_not_reached_targets()\n",
    "\n",
    "#Callback function for the subscriber to the /reached_targets topic\n",
    "def increase_reached_targets():\n",
    "    global target_counts\n",
    "    global goal_reached\n",
    "    reached_targets += 1\n",
    "\n",
    "#Callback function for the subscriber to the /not_reached_targets topic\n",
    "def increase_not_reached_targets():\n",
    "    global target_counts\n",
    "    global targets_cancelled\n",
    "    targets_cancelled += 1\n",
    "    \n",
    "def goal_callback(msg):\n",
    "    # Process the received goal message\n",
    "    x = msg.client_goal.target_pose.pose.position.x\n",
    "    y = msg.client_goal.target_pose.pose.position.y\n",
    "    # Plot the target\n",
    "    ax1.plot(x, y, 'bo') "
   ]
  },
  {
   "cell_type": "code",
   "execution_count": null,
   "metadata": {},
   "outputs": [],
   "source": [
    "# Create the figure and axis\n",
    "fig, (ax1, ax2) = plt.subplots(2, 1, figsize=(8, 10))\n",
    "\n",
    "# Create the line object for the robot position plot\n",
    "ln, = ax1.plot([], [], 'ro')\n",
    "# Set the plot limits\n",
    "ax1.set_xlim(-10, 10)\n",
    "ax1.set_ylim(-10, 10)\n",
    "\n",
    "# Create the bar plot for the number of reached/not-reached targets\n",
    "targets = ['Reached', 'Not Reached']\n",
    "target_counts = [goal_reached, targets_cancelled]\n",
    "bar_plot = ax2.bar(targets, target_counts)\n",
    "ax2.set_ylim(0,5)\n",
    "\n",
    "# Create GUI widgets\n",
    "robot_position_text = widgets.Text(description='Robot position:', value='(0, 0)')\n",
    "obstacle_distance_text = widgets.Text(description='Closest obstacle:', value='Infinity')"
   ]
  },
  {
   "cell_type": "code",
   "execution_count": null,
   "metadata": {},
   "outputs": [],
   "source": [
    "rospy.Subscriber('/scan', LaserScan, laser_callback)\n",
    "rospy.Subscriber('/reaching_goal/result', assignment_2_2022.msg.PlanningActionResult , callback_result)\n",
    "rospy.Subscriber('/robot_informations', odom_custom_msg  , position_callback)\n",
    "client = actionlib.SimpleActionClient('/reaching_goal', assignment_2_2022.msg.PlanningAction)"
   ]
  },
  {
   "cell_type": "code",
   "execution_count": null,
   "metadata": {},
   "outputs": [],
   "source": [
    "# Graphic Interface\n",
    "gui_layout = widgets.VBox([robot_position_text, obstacle_distance_text])\n",
    "display(gui_layout)\n",
    "ani = FuncAnimation(fig, update_plot, interval=100)\n",
    "plt.show()"
   ]
  },
  {
   "cell_type": "code",
   "execution_count": null,
   "metadata": {},
   "outputs": [],
   "source": [
    "# Define callback function for target set button\n",
    "def set_button_callback(sender):\n",
    "    global x_goal, y_goal\n",
    "    \n",
    "    # Get x and y coordinates from text boxes\n",
    "    x_goal = float(x_textbox.value)\n",
    "    y_goal = float(y_textbox.value)\n",
    "\n",
    "    #Creating the goal\n",
    "    client_goal = PoseStamped()\n",
    "    client_goal.pose.position.x = x_goal\n",
    "    client_goal.pose.position.y = y_goal\n",
    "\n",
    "    client_goal = assignment_2_2022.msg.PlanningGoal(client_goal)\n",
    "\n",
    "    client.send_goal(client_goal)"
   ]
  },
  {
   "cell_type": "code",
   "execution_count": null,
   "metadata": {},
   "outputs": [],
   "source": [
    "# Define callback function for target set button\n",
    "def stop_button_callback(bot):\n",
    "    global client\n",
    "    client.wait_for_server()\n",
    "    client.cancel_goal()"
   ]
  },
  {
   "cell_type": "code",
   "execution_count": null,
   "metadata": {},
   "outputs": [],
   "source": [
    "client_goal = PlanningGoal()"
   ]
  },
  {
   "cell_type": "code",
   "execution_count": null,
   "metadata": {},
   "outputs": [],
   "source": [
    "# Buttons definition: set and stop buttons\n",
    "x_textbox = widgets.FloatText(description = 'X:')\n",
    "y_textbox = widgets.FloatText(description = 'Y:')\n",
    "set_button = widgets.Button(description = 'Set Target')\n",
    "stop_button = widgets.Button(description = 'Cancel Target')\n",
    "set_button.on_click(set_button_callback)\n",
    "stop_button.on_click(stop_button_callback)\n",
    "display(widgets.HBox([x_textbox, y_textbox, set_button, stop_button]))"
   ]
  }
 ],
 "metadata": {
  "language_info": {
   "name": "python"
  }
 },
 "nbformat": 4,
 "nbformat_minor": 2
}
